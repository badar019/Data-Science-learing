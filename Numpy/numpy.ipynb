{
 "cells": [
  {
   "cell_type": "markdown",
   "id": "2c5101af",
   "metadata": {},
   "source": [
    "# NumPy\n",
    "NumPy Stand for --Numerical Python"
   ]
  },
  {
   "cell_type": "code",
   "execution_count": 1,
   "id": "a643c7d6",
   "metadata": {},
   "outputs": [],
   "source": [
    "import numpy as np"
   ]
  },
  {
   "cell_type": "code",
   "execution_count": 2,
   "id": "74733132",
   "metadata": {},
   "outputs": [
    {
     "data": {
      "text/plain": [
       "'1.26.4'"
      ]
     },
     "execution_count": 2,
     "metadata": {},
     "output_type": "execute_result"
    }
   ],
   "source": [
    "np.__version__"
   ]
  },
  {
   "cell_type": "markdown",
   "id": "e923f170",
   "metadata": {},
   "source": [
    "list=[1,2,'a',3](can have defferent data type)\n",
    "numpy array=[1,2,3](same data type)"
   ]
  },
  {
   "cell_type": "code",
   "execution_count": 4,
   "id": "befe3e13",
   "metadata": {},
   "outputs": [],
   "source": [
    "list=[1,2,4]"
   ]
  },
  {
   "cell_type": "code",
   "execution_count": 5,
   "id": "a57bc57c",
   "metadata": {},
   "outputs": [
    {
     "data": {
      "text/plain": [
       "[1, 2, 4, 1, 2, 4]"
      ]
     },
     "execution_count": 5,
     "metadata": {},
     "output_type": "execute_result"
    }
   ],
   "source": [
    "list*2"
   ]
  },
  {
   "cell_type": "code",
   "execution_count": 6,
   "id": "3a1ec762",
   "metadata": {},
   "outputs": [
    {
     "data": {
      "text/plain": [
       "array([2, 6, 8])"
      ]
     },
     "execution_count": 6,
     "metadata": {},
     "output_type": "execute_result"
    }
   ],
   "source": [
    "arr=np.array([1,3,4])\n",
    "arr*2"
   ]
  },
  {
   "cell_type": "markdown",
   "id": "9cb2d05a",
   "metadata": {},
   "source": [
    "# Creating NumPy array \n",
    "from python data type(e.g list,tuple)"
   ]
  },
  {
   "cell_type": "code",
   "execution_count": 7,
   "id": "e860f748",
   "metadata": {},
   "outputs": [
    {
     "data": {
      "text/plain": [
       "[2, 3, 6]"
      ]
     },
     "execution_count": 7,
     "metadata": {},
     "output_type": "execute_result"
    }
   ],
   "source": [
    "#Let's create a list\n",
    "my_list=[2,3,6]\n",
    "my_list"
   ]
  },
  {
   "cell_type": "code",
   "execution_count": 8,
   "id": "b8fc50da",
   "metadata": {},
   "outputs": [
    {
     "data": {
      "text/plain": [
       "array([2, 3, 6])"
      ]
     },
     "execution_count": 8,
     "metadata": {},
     "output_type": "execute_result"
    }
   ],
   "source": [
    "my_array=np.array(my_list)\n",
    "my_array"
   ]
  },
  {
   "cell_type": "code",
   "execution_count": 11,
   "id": "527125b8",
   "metadata": {},
   "outputs": [
    {
     "data": {
      "text/plain": [
       "5"
      ]
     },
     "execution_count": 11,
     "metadata": {},
     "output_type": "execute_result"
    }
   ],
   "source": [
    "my_array[0]+ my_array[1]"
   ]
  },
  {
   "cell_type": "code",
   "execution_count": 12,
   "id": "3080eac5",
   "metadata": {},
   "outputs": [
    {
     "data": {
      "text/plain": [
       "array([ 4,  6, 12])"
      ]
     },
     "execution_count": 12,
     "metadata": {},
     "output_type": "execute_result"
    }
   ],
   "source": [
    "my_array*2"
   ]
  },
  {
   "cell_type": "code",
   "execution_count": 17,
   "id": "cfb6d067",
   "metadata": {},
   "outputs": [
    {
     "data": {
      "text/plain": [
       "array([1. , 1.5, 3. ])"
      ]
     },
     "execution_count": 17,
     "metadata": {},
     "output_type": "execute_result"
    }
   ],
   "source": [
    "my_array/2"
   ]
  },
  {
   "cell_type": "code",
   "execution_count": 18,
   "id": "4722d29f",
   "metadata": {},
   "outputs": [
    {
     "data": {
      "text/plain": [
       "array([ 6,  9, 18])"
      ]
     },
     "execution_count": 18,
     "metadata": {},
     "output_type": "execute_result"
    }
   ],
   "source": [
    "my_array+my_array+my_array"
   ]
  },
  {
   "cell_type": "code",
   "execution_count": 19,
   "id": "3a26036f",
   "metadata": {},
   "outputs": [
    {
     "data": {
      "text/plain": [
       "array([11,  3,  6])"
      ]
     },
     "execution_count": 19,
     "metadata": {},
     "output_type": "execute_result"
    }
   ],
   "source": [
    "my_array[0]=11\n",
    "my_array"
   ]
  },
  {
   "cell_type": "code",
   "execution_count": 20,
   "id": "a55cc844",
   "metadata": {},
   "outputs": [
    {
     "data": {
      "text/plain": [
       "[[1, 20, 3], [4, 27, 6], [7, 17, 9], [11, 12, 13]]"
      ]
     },
     "execution_count": 20,
     "metadata": {},
     "output_type": "execute_result"
    }
   ],
   "source": [
    "#Let's create and cast a list of list to generate a 2-D array\n",
    "my_matrix=[[1,20,3],[4,27,6],[7,17,9],[11,12,13]]\n",
    "my_matrix"
   ]
  },
  {
   "cell_type": "code",
   "execution_count": 21,
   "id": "20c34d83",
   "metadata": {},
   "outputs": [
    {
     "data": {
      "text/plain": [
       "array([[ 1, 20,  3],\n",
       "       [ 4, 27,  6],\n",
       "       [ 7, 17,  9],\n",
       "       [11, 12, 13]])"
      ]
     },
     "execution_count": 21,
     "metadata": {},
     "output_type": "execute_result"
    }
   ],
   "source": [
    "my_matrix_2=np.array(my_matrix)\n",
    "my_matrix_2"
   ]
  },
  {
   "cell_type": "code",
   "execution_count": 25,
   "id": "cec7de21",
   "metadata": {},
   "outputs": [
    {
     "data": {
      "text/plain": [
       "(1, 3, 5, 6)"
      ]
     },
     "execution_count": 25,
     "metadata": {},
     "output_type": "execute_result"
    }
   ],
   "source": [
    "#Lets a create a tuple\n",
    "my_tuple=(1,3,5,6)\n",
    "my_tuple"
   ]
  },
  {
   "cell_type": "code",
   "execution_count": 26,
   "id": "487289bf",
   "metadata": {},
   "outputs": [
    {
     "data": {
      "text/plain": [
       "array([1, 3, 5, 6])"
      ]
     },
     "execution_count": 26,
     "metadata": {},
     "output_type": "execute_result"
    }
   ],
   "source": [
    "my_tuple2=np.array(my_tuple)\n",
    "my_tuple2\n"
   ]
  },
  {
   "cell_type": "code",
   "execution_count": 28,
   "id": "8d5df510",
   "metadata": {},
   "outputs": [
    {
     "data": {
      "text/plain": [
       "(1, 3, 5, 6)"
      ]
     },
     "execution_count": 28,
     "metadata": {},
     "output_type": "execute_result"
    }
   ],
   "source": [
    "my_tuple3=((1,2,3),(4,5,6),(7,8,9))\n",
    "my_tuple"
   ]
  },
  {
   "cell_type": "code",
   "execution_count": 29,
   "id": "66f9cec6",
   "metadata": {},
   "outputs": [
    {
     "data": {
      "text/plain": [
       "array([[1, 2, 3],\n",
       "       [4, 5, 6],\n",
       "       [7, 8, 9]])"
      ]
     },
     "execution_count": 29,
     "metadata": {},
     "output_type": "execute_result"
    }
   ],
   "source": [
    "my_tuple4=np.array(my_tuple3)\n",
    "my_tuple4"
   ]
  },
  {
   "cell_type": "code",
   "execution_count": 30,
   "id": "e1441aaf",
   "metadata": {},
   "outputs": [
    {
     "data": {
      "text/plain": [
       "array(['1', '2', '3', 'a'], dtype='<U11')"
      ]
     },
     "execution_count": 30,
     "metadata": {},
     "output_type": "execute_result"
    }
   ],
   "source": [
    "my_array=np.array([1,2,3,'a'])\n",
    "my_array"
   ]
  },
  {
   "cell_type": "code",
   "execution_count": null,
   "id": "81926004",
   "metadata": {},
   "outputs": [],
   "source": []
  },
  {
   "cell_type": "code",
   "execution_count": null,
   "id": "cdfef45c",
   "metadata": {},
   "outputs": [],
   "source": []
  },
  {
   "cell_type": "code",
   "execution_count": null,
   "id": "428645ef",
   "metadata": {},
   "outputs": [],
   "source": []
  },
  {
   "cell_type": "code",
   "execution_count": null,
   "id": "be66f045",
   "metadata": {},
   "outputs": [],
   "source": []
  },
  {
   "cell_type": "code",
   "execution_count": null,
   "id": "77f2a0f4",
   "metadata": {},
   "outputs": [],
   "source": []
  },
  {
   "cell_type": "code",
   "execution_count": null,
   "id": "53124ef9",
   "metadata": {},
   "outputs": [],
   "source": []
  },
  {
   "cell_type": "code",
   "execution_count": null,
   "id": "f1f0f4f9",
   "metadata": {},
   "outputs": [],
   "source": []
  },
  {
   "cell_type": "code",
   "execution_count": null,
   "id": "d5782073",
   "metadata": {},
   "outputs": [],
   "source": []
  },
  {
   "cell_type": "code",
   "execution_count": null,
   "id": "76329259",
   "metadata": {},
   "outputs": [],
   "source": []
  },
  {
   "cell_type": "code",
   "execution_count": null,
   "id": "4ced4186",
   "metadata": {},
   "outputs": [],
   "source": []
  },
  {
   "cell_type": "code",
   "execution_count": null,
   "id": "38a86fb3",
   "metadata": {},
   "outputs": [],
   "source": []
  }
 ],
 "metadata": {
  "kernelspec": {
   "display_name": "Python 3 (ipykernel)",
   "language": "python",
   "name": "python3"
  },
  "language_info": {
   "codemirror_mode": {
    "name": "ipython",
    "version": 3
   },
   "file_extension": ".py",
   "mimetype": "text/x-python",
   "name": "python",
   "nbconvert_exporter": "python",
   "pygments_lexer": "ipython3",
   "version": "3.12.3"
  }
 },
 "nbformat": 4,
 "nbformat_minor": 5
}
